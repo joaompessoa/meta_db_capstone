{
 "cells": [
  {
   "cell_type": "markdown",
   "source": [
    "Task 1"
   ],
   "metadata": {
    "collapsed": false
   },
   "id": "8052a55c56d9fb2"
  },
  {
   "cell_type": "code",
   "execution_count": 4,
   "id": "initial_id",
   "metadata": {
    "collapsed": true,
    "ExecuteTime": {
     "end_time": "2024-03-09T12:39:18.632639Z",
     "start_time": "2024-03-09T12:39:18.630491Z"
    }
   },
   "outputs": [],
   "source": [
    "import mysql.connector as connector\n",
    "from mysql.connector import errors,pooling"
   ]
  },
  {
   "cell_type": "code",
   "outputs": [],
   "source": [
    "try:\n",
    "    connection = connector.connect(user='your_username', password='your_password',db='littlelemondb')\n",
    "    cursor = connection.cursor()\n",
    "except errors.Error as e:\n",
    "    print(f\"Error while connecting to MySQL: {e}\")"
   ],
   "metadata": {
    "collapsed": false,
    "ExecuteTime": {
     "end_time": "2024-03-09T12:41:05.363061Z",
     "start_time": "2024-03-09T12:41:05.356707Z"
    }
   },
   "id": "ac855275d13d5ef3",
   "execution_count": 7
  },
  {
   "cell_type": "markdown",
   "source": [
    "Task 2"
   ],
   "metadata": {
    "collapsed": false
   },
   "id": "c5b4d4c1e17fac91"
  },
  {
   "cell_type": "code",
   "outputs": [
    {
     "name": "stdout",
     "output_type": "stream",
     "text": [
      "[('bookings',), ('customers',), ('deliverystatus',), ('menu',), ('menuitem',), ('orderedtwiceormore',), ('orders',), ('orderslargerthan200',), ('ordersview',), ('roles',), ('staff',), ('status',)]\n"
     ]
    }
   ],
   "source": [
    "show_tables_query = 'SHOW TABLES'\n",
    "cursor.execute(show_tables_query)\n",
    "\n",
    "print(cursor.fetchall())\n"
   ],
   "metadata": {
    "collapsed": false,
    "ExecuteTime": {
     "end_time": "2024-03-09T12:43:08.645494Z",
     "start_time": "2024-03-09T12:43:08.640009Z"
    }
   },
   "id": "307a68e75508ea58",
   "execution_count": 9
  },
  {
   "cell_type": "markdown",
   "source": [
    "Task 3"
   ],
   "metadata": {
    "collapsed": false
   },
   "id": "30fb5f2dfc8ef5f4"
  },
  {
   "cell_type": "code",
   "outputs": [],
   "source": [
    "query_with_join ='''SELECT CONCAT(customers.FirstName, ' ', customers.LastName) as FullName,customers.phone,customers.email FROM customers INNER JOIN orders on orders.customerId = customers.customerid WHERE orders.totalcost > 60;'''"
   ],
   "metadata": {
    "collapsed": false,
    "ExecuteTime": {
     "end_time": "2024-03-09T12:52:01.284341Z",
     "start_time": "2024-03-09T12:52:01.282372Z"
    }
   },
   "id": "143bb10e9b7cc839",
   "execution_count": 14
  },
  {
   "cell_type": "code",
   "outputs": [
    {
     "name": "stdout",
     "output_type": "stream",
     "text": [
      "['FullName', 'phone', 'email']\n",
      "('John Doe', '1234567890', 'john.doe@example.com')\n",
      "('Jane Smith', '2345678901', 'jane.smith@example.com')\n",
      "('Emily Jones', '3456789012', 'emily.jones@example.com')\n"
     ]
    }
   ],
   "source": [
    "cursor.execute(query_with_join)\n",
    "\n",
    "column_names = [column[0] for column in cursor.description]\n",
    "print(column_names)\n",
    "for data in cursor.fetchall():\n",
    "    print(data)"
   ],
   "metadata": {
    "collapsed": false,
    "ExecuteTime": {
     "end_time": "2024-03-09T12:52:21.971805Z",
     "start_time": "2024-03-09T12:52:21.969190Z"
    }
   },
   "id": "89e579d5c5b80115",
   "execution_count": 16
  },
  {
   "cell_type": "code",
   "outputs": [],
   "source": [
    "cursor.close()\n",
    "connection.close()"
   ],
   "metadata": {
    "collapsed": false,
    "ExecuteTime": {
     "end_time": "2024-03-09T12:52:54.676519Z",
     "start_time": "2024-03-09T12:52:54.674417Z"
    }
   },
   "id": "490a1ada411ec994",
   "execution_count": 17
  },
  {
   "cell_type": "code",
   "outputs": [],
   "source": [],
   "metadata": {
    "collapsed": false
   },
   "id": "4454ae5b7143372e"
  }
 ],
 "metadata": {
  "kernelspec": {
   "display_name": "Python 3",
   "language": "python",
   "name": "python3"
  },
  "language_info": {
   "codemirror_mode": {
    "name": "ipython",
    "version": 2
   },
   "file_extension": ".py",
   "mimetype": "text/x-python",
   "name": "python",
   "nbconvert_exporter": "python",
   "pygments_lexer": "ipython2",
   "version": "2.7.6"
  }
 },
 "nbformat": 4,
 "nbformat_minor": 5
}
